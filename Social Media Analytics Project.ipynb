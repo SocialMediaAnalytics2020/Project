{
 "cells": [
  {
   "cell_type": "markdown",
   "metadata": {},
   "source": [
    "# Community Detection in a Blog network"
   ]
  },
  {
   "cell_type": "markdown",
   "metadata": {},
   "source": [
    "Reference for the data :\n",
    "\n",
    "@inproceedings{nr-aaai15,\n",
    "      title = {The Network Data Repository with Interactive Graph Analytics and Visualization},\n",
    "      author={Ryan A. Rossi and Nesreen K. Ahmed},\n",
    "      booktitle = {AAAI},\n",
    "      url={http://networkrepository.com},\n",
    "      year={2015}\n",
    "  }"
   ]
  },
  {
   "cell_type": "markdown",
   "metadata": {},
   "source": [
    "## 0) Import Libraries"
   ]
  },
  {
   "cell_type": "code",
   "execution_count": 1,
   "metadata": {},
   "outputs": [],
   "source": [
    "import matplotlib.pyplot as plt\n",
    "import networkx as nx\n",
    "import heapq"
   ]
  },
  {
   "cell_type": "markdown",
   "metadata": {},
   "source": [
    "## 1) Dataset"
   ]
  },
  {
   "cell_type": "markdown",
   "metadata": {},
   "source": [
    "### Load the data set"
   ]
  },
  {
   "cell_type": "markdown",
   "metadata": {},
   "source": [
    "Reference for opening mtx file using scipy.io mmread function : https://www.programcreek.com/python/example/101880/scipy.io.mmread"
   ]
  },
  {
   "cell_type": "code",
   "execution_count": 2,
   "metadata": {
    "scrolled": true
   },
   "outputs": [],
   "source": [
    "G = nx.read_edgelist('dataset/soc-BlogCatalog.txt', nodetype=int, data=(int,int))"
   ]
  },
  {
   "cell_type": "markdown",
   "metadata": {},
   "source": [
    "### Explore the properties of the graph"
   ]
  },
  {
   "cell_type": "markdown",
   "metadata": {},
   "source": [
    "General information of the graph :"
   ]
  },
  {
   "cell_type": "code",
   "execution_count": 3,
   "metadata": {},
   "outputs": [
    {
     "name": "stdout",
     "output_type": "stream",
     "text": [
      "Name: \n",
      "Type: Graph\n",
      "Number of nodes: 88784\n",
      "Number of edges: 2093195\n",
      "Average degree:  47.1525\n"
     ]
    }
   ],
   "source": [
    "print(nx.info(G))"
   ]
  },
  {
   "cell_type": "markdown",
   "metadata": {},
   "source": [
    "What is the maximum degree a node has ?"
   ]
  },
  {
   "cell_type": "code",
   "execution_count": 4,
   "metadata": {},
   "outputs": [
    {
     "data": {
      "text/plain": [
       "9444"
      ]
     },
     "execution_count": 4,
     "metadata": {},
     "output_type": "execute_result"
    }
   ],
   "source": [
    "nodes = G.nodes\n",
    "maxDegree = max(G.degree[node] for node in nodes)\n",
    "maxDegree"
   ]
  },
  {
   "cell_type": "markdown",
   "metadata": {},
   "source": [
    "What is the minimum degree a node has ?"
   ]
  },
  {
   "cell_type": "code",
   "execution_count": 5,
   "metadata": {},
   "outputs": [
    {
     "data": {
      "text/plain": [
       "1"
      ]
     },
     "execution_count": 5,
     "metadata": {},
     "output_type": "execute_result"
    }
   ],
   "source": [
    "nodes = G.nodes\n",
    "minDegree = min(G.degree[node] for node in nodes)\n",
    "minDegree"
   ]
  },
  {
   "cell_type": "markdown",
   "metadata": {},
   "source": [
    "Is there some cycle in our graph ?"
   ]
  },
  {
   "cell_type": "code",
   "execution_count": 6,
   "metadata": {},
   "outputs": [
    {
     "data": {
      "text/plain": [
       "[(1, 3), (3, 7), (7, 1)]"
      ]
     },
     "execution_count": 6,
     "metadata": {},
     "output_type": "execute_result"
    }
   ],
   "source": [
    "nx.find_cycle(G)"
   ]
  },
  {
   "cell_type": "markdown",
   "metadata": {},
   "source": [
    "What about triangles ?"
   ]
  },
  {
   "cell_type": "code",
   "execution_count": null,
   "metadata": {},
   "outputs": [],
   "source": [
    "nx.triangles(G)"
   ]
  },
  {
   "cell_type": "markdown",
   "metadata": {},
   "source": [
    "## 2) Implementation"
   ]
  },
  {
   "cell_type": "markdown",
   "metadata": {},
   "source": [
    "### Edge Betweenness Algo\n",
    "\n",
    "[Girvan Newman by Anuradha Bhatia](https://www.youtube.com/watch?v=LtQoPEKKRYM)"
   ]
  },
  {
   "cell_type": "code",
   "execution_count": null,
   "metadata": {},
   "outputs": [],
   "source": [
    "def _single_source_shortest_path_basic(G, s):\n",
    "    \n",
    "    shortest_path = []\n",
    "    predecessors = {}\n",
    "    for v in G:\n",
    "        predecessors[v] = []\n",
    "     \n",
    "    sigma = dict.fromkeys(G, 0.0)\n",
    "    sigma[s] = 1.0\n",
    "\n",
    "    D = {}\n",
    "    D[s] = 0\n",
    "    \n",
    "    queue = [s]\n",
    "    \n",
    "    # use BFS to find shortest paths\n",
    "    while queue: \n",
    "        v = queue.pop(0)\n",
    "        shortest_path.append(v)\n",
    "        Dv = D[v]\n",
    "        sigmav = sigma[v]\n",
    "        for w in G[v]:\n",
    "            if w not in D:\n",
    "                queue.append(w)\n",
    "                D[w] = Dv + 1\n",
    "                \n",
    "            if D[w] == Dv + 1:   # this is a shortest path, count paths\n",
    "                sigma[w] += sigmav\n",
    "                predecessors[w].append(v)  # predecessors\n",
    "                \n",
    "    return shortest_path, predecessors, sigma\n",
    "\n",
    "def _accumulate_edges(betweenness, shortest_path, predecessors, sigma, s):\n",
    "    \n",
    "    delta = dict.fromkeys(shortest_path, 0)\n",
    "    while shortest_path:\n",
    "        w = shortest_path.pop()\n",
    "        coeff = (1 + delta[w]) / sigma[w]\n",
    "        for v in predecessors[w]:\n",
    "            c = sigma[v] * coeff\n",
    "            if (v, w) not in betweenness:\n",
    "                betweenness[(w, v)] += c\n",
    "            else:\n",
    "                betweenness[(v, w)] += c\n",
    "            delta[v] += c\n",
    "        if w != s:\n",
    "            betweenness[w] += delta[w]\n",
    "            \n",
    "    return betweenness\n",
    "\n",
    "def edge_betweenness_centrality(G):\n",
    "    \n",
    "    # b[v]=0 for v in G\n",
    "    betweenness = dict.fromkeys(G, 0.0)  \n",
    "    \n",
    "    # b[e]=0 for e in G.edges()\n",
    "    betweenness.update(dict.fromkeys(G.edges(), 0.0))\n",
    "    \n",
    "    for n in G:\n",
    "        \n",
    "        # use BFS\n",
    "        shortest_path, predecessors, sigma = _single_source_shortest_path_basic(G, n)\n",
    "        \n",
    "        # accumulation\n",
    "        betweenness = _accumulate_edges(betweenness, shortest_path, predecessors, sigma, n)\n",
    "        \n",
    "    # rescaling\n",
    "    for n in G:  # remove nodes to only return edges\n",
    "        del betweenness[n]\n",
    "\n",
    "    for e in betweenness:\n",
    "        betweenness[e] *= 0.5\n",
    "    \n",
    "    return betweenness"
   ]
  },
  {
   "cell_type": "markdown",
   "metadata": {},
   "source": [
    "### Girvan Newman Algo"
   ]
  },
  {
   "cell_type": "markdown",
   "metadata": {},
   "source": [
    "##### This method keeps removing edges with maximum betweenness from Graph until splits into two communities"
   ]
  },
  {
   "cell_type": "code",
   "execution_count": null,
   "metadata": {},
   "outputs": [],
   "source": [
    "def girvan_newman(G):\n",
    "\n",
    "    # no of components\n",
    "    initial_number_components = nx.number_connected_components(G)    \n",
    "    \n",
    "    # stop when we have more communities compare to when we started\n",
    "    current_number_components = initial_number_components\n",
    "    while current_number_components <= initial_number_components:\n",
    "        \n",
    "        # edge betweenness for G\n",
    "        bw = edge_betweenness_centrality(G)   \n",
    "        \n",
    "        # find the edge with max centrality (n1, n2)\n",
    "        central_edge = max(bw, key=bw.get)\n",
    "        \n",
    "        #remove the central edge\n",
    "        G.remove_edge(central_edge[0],central_edge[1])  \n",
    "        \n",
    "        # recalculate the no of components\n",
    "        current_number_components = nx.number_connected_components(G)"
   ]
  },
  {
   "cell_type": "code",
   "execution_count": null,
   "metadata": {},
   "outputs": [],
   "source": [
    "girvan_newman(G)\n",
    "\n",
    "nx.draw(G, with_labels=True)\n",
    "plt.show()\n"
   ]
  },
  {
   "cell_type": "markdown",
   "metadata": {},
   "source": [
    "### Implement the Degree centrality measure"
   ]
  },
  {
   "cell_type": "markdown",
   "metadata": {
    "collapsed": true
   },
   "source": [
    "The degree centrality of a node is simply its degree, which is the number of edges which are connected to it.\n",
    "\n",
    "Let's take an example with the node 10 and calculte its degree :"
   ]
  },
  {
   "cell_type": "code",
   "execution_count": null,
   "metadata": {},
   "outputs": [],
   "source": [
    "nodetendegree = G.degree[10]\n",
    "print(\"Node 10 has degree \"+str(nodetendegree))\n",
    "print(\"It is linked to the following nodes :\"+str([n for n in G[10]]))"
   ]
  },
  {
   "cell_type": "markdown",
   "metadata": {},
   "source": [
    "However, the degree centrality of a node is usually normalized, so this is what we are going to do :"
   ]
  },
  {
   "cell_type": "code",
   "execution_count": null,
   "metadata": {},
   "outputs": [],
   "source": [
    "normalized_degree = nodetendegree / (len(G.nodes)-1)\n",
    "print(\"Normalized degree of node 10 : \"+str(normalized_degree))"
   ]
  },
  {
   "cell_type": "markdown",
   "metadata": {},
   "source": [
    "##### Now we will implement a function which computes the normalized degree centrality for every node and return it in a dictionnary:"
   ]
  },
  {
   "cell_type": "code",
   "execution_count": null,
   "metadata": {},
   "outputs": [],
   "source": [
    "def degree_centrality_measure(G):\n",
    "    nodes = G.nodes\n",
    "    number_of_nodes = len(nodes)\n",
    "    max_possible_degree = (number_of_nodes-1)\n",
    "    results = dict()\n",
    "    for node in nodes:\n",
    "        normalized_degree = G.degree[node] / max_possible_degree\n",
    "        results[node] = normalized_degree\n",
    "    return results"
   ]
  },
  {
   "cell_type": "markdown",
   "metadata": {},
   "source": [
    "Let's see if it works by finding the node with the highest degree centrality :"
   ]
  },
  {
   "cell_type": "code",
   "execution_count": null,
   "metadata": {},
   "outputs": [],
   "source": [
    "degreeC = degree_centrality_measure(G)\n",
    "maxDegreeCentralityNode = max(degreeC, key=degreeC.get)\n",
    "maxDegreeCentralityValue = max(degreeC.values())\n",
    "print(\"The node which has the highest degree centrality is the node \"\n",
    "      +str(maxDegreeCentralityNode)+\" with a value of : \"+str(maxDegreeCentralityValue))"
   ]
  },
  {
   "cell_type": "markdown",
   "metadata": {},
   "source": [
    "## 3) Analysis"
   ]
  },
  {
   "cell_type": "markdown",
   "metadata": {},
   "source": [
    "### Identify users’ communities in the blog network using Girvan-Newman. Evaluate with different values of the iteration level."
   ]
  },
  {
   "cell_type": "code",
   "execution_count": null,
   "metadata": {},
   "outputs": [],
   "source": []
  },
  {
   "cell_type": "markdown",
   "metadata": {},
   "source": [
    "### Identify the top k users with the highest Degree centrality in the graph. Experiment with different values of k and choose the most appropriate one."
   ]
  },
  {
   "cell_type": "markdown",
   "metadata": {
    "collapsed": true
   },
   "source": [
    "Let's create a function which list the top k users with highest Degree centrality :"
   ]
  },
  {
   "cell_type": "code",
   "execution_count": null,
   "metadata": {},
   "outputs": [],
   "source": [
    "def k_nodes_max_degreeC(dictionary, k):\n",
    "    k_nodes = heapq.nlargest(k, dictionary, key=dictionary.get)\n",
    "    results = dict()\n",
    "    for node in k_nodes:\n",
    "        results[node] = dictionary[node]\n",
    "    return results"
   ]
  },
  {
   "cell_type": "markdown",
   "metadata": {},
   "source": [
    "Let's test it with different values of k"
   ]
  },
  {
   "cell_type": "code",
   "execution_count": null,
   "metadata": {},
   "outputs": [],
   "source": [
    "def print_k_top(degreeC, k_list):\n",
    "    for k in k_list:\n",
    "        i = 1\n",
    "        print(\"Top \"+str(k)+\" :\")\n",
    "        print(\"-----------------\")\n",
    "        result_dict = k_nodes_max_degreeC(degreeC, k)\n",
    "        for entry in result_dict:\n",
    "            print(\"{0:3d}) Node: {1:5d}, Value: {2:.3f}\".format(i, entry, result_dict[entry]))\n",
    "            i = i+1\n",
    "        print(\"----------------\")"
   ]
  },
  {
   "cell_type": "code",
   "execution_count": null,
   "metadata": {},
   "outputs": [],
   "source": [
    "degreeC = degree_centrality_measure(G)\n",
    "print_k_top(degreeC, [5,10,20,50,100])"
   ]
  },
  {
   "cell_type": "markdown",
   "metadata": {},
   "source": [
    "The top 7 is quite appropriate with a degree centrality higher or equal to 0.100"
   ]
  },
  {
   "cell_type": "code",
   "execution_count": null,
   "metadata": {},
   "outputs": [],
   "source": [
    "print_k_top(degreeC, [7])"
   ]
  },
  {
   "cell_type": "markdown",
   "metadata": {},
   "source": [
    "### Evaluate different random walk strategies to spread a message across the network. The message should reach as many different communities as possible."
   ]
  },
  {
   "cell_type": "code",
   "execution_count": null,
   "metadata": {},
   "outputs": [],
   "source": []
  },
  {
   "cell_type": "markdown",
   "metadata": {},
   "source": [
    "# 4) Visualization"
   ]
  },
  {
   "cell_type": "markdown",
   "metadata": {},
   "source": [
    "### Visualize the output of Girvan-Newman by coloring the nodes according to their assigned communities."
   ]
  },
  {
   "cell_type": "code",
   "execution_count": null,
   "metadata": {},
   "outputs": [],
   "source": []
  },
  {
   "cell_type": "markdown",
   "metadata": {},
   "source": [
    "### Visualize the top k users with highest Degree centrality and their 1 degree neighbors."
   ]
  },
  {
   "cell_type": "code",
   "execution_count": null,
   "metadata": {},
   "outputs": [],
   "source": [
    "def one_degree_neighbor(neighbors):\n",
    "    results = []\n",
    "    for node in neighbors:\n",
    "        if G.degree[node] == 1:\n",
    "            results.append(node)\n",
    "    return results"
   ]
  },
  {
   "cell_type": "code",
   "execution_count": null,
   "metadata": {},
   "outputs": [],
   "source": [
    "def visualize_k_top(degreeC, k):\n",
    "    #configurate plot\n",
    "    fig=plt.figure(figsize=(20, 20))\n",
    "    ax = fig.add_subplot(111) # the big subplot\n",
    "    ax.spines['top'].set_color('none')\n",
    "    ax.spines['bottom'].set_color('none')\n",
    "    ax.spines['left'].set_color('none')\n",
    "    ax.spines['right'].set_color('none')\n",
    "    ax.tick_params(labelcolor='w', top=False, bottom=False, left=False, right=False)\n",
    "    \n",
    "    rows = k\n",
    "    #choose what to plot\n",
    "    result_dict = k_nodes_max_degreeC(degreeC, k)\n",
    "    i = 1\n",
    "    print(\"Top \"+str(k)+\" :\")\n",
    "    print(\"-----------------\")\n",
    "    for node in result_dict:\n",
    "        list_nodes = one_degree_neighbor([n for n in G[node]])\n",
    "        list_nodes.append(node)\n",
    "        subG = G.subgraph(list_nodes)\n",
    "        subplot = fig.add_subplot(rows, 1, i)\n",
    "        subplot.set_title(i)\n",
    "        img = nx.draw_networkx(subG)\n",
    "        i += 1\n",
    "    plt.show"
   ]
  },
  {
   "cell_type": "code",
   "execution_count": null,
   "metadata": {},
   "outputs": [],
   "source": [
    "visualize_k_top(degreeC, 7)"
   ]
  },
  {
   "cell_type": "code",
   "execution_count": null,
   "metadata": {},
   "outputs": [],
   "source": []
  }
 ],
 "metadata": {
  "kernelspec": {
   "display_name": "Python 3",
   "language": "python",
   "name": "python3"
  },
  "language_info": {
   "codemirror_mode": {
    "name": "ipython",
    "version": 3
   },
   "file_extension": ".py",
   "mimetype": "text/x-python",
   "name": "python",
   "nbconvert_exporter": "python",
   "pygments_lexer": "ipython3",
   "version": "3.7.4"
  }
 },
 "nbformat": 4,
 "nbformat_minor": 4
}
